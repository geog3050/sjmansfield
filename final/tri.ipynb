{
 "cells": [
  {
   "cell_type": "code",
   "execution_count": 5,
   "metadata": {},
   "outputs": [],
   "source": [
    "# importing system modules\n",
    "import arcpy\n",
    "import os"
   ]
  },
  {
   "cell_type": "code",
   "execution_count": 54,
   "metadata": {},
   "outputs": [],
   "source": [
    "# setting workspace\n",
    "arcpy.env.workspace = \"H:/ArcGIS/geogfinalproject/Data\"\n",
    "arcpy.env.overwriteOutput = True"
   ]
  },
  {
   "cell_type": "code",
   "execution_count": 6,
   "metadata": {},
   "outputs": [],
   "source": [
    "# creating a geodatabase\n",
    "mygdb = \"H:/ArcGIS/geogfinalproject/tri.gdb\""
   ]
  },
  {
   "cell_type": "code",
   "execution_count": 56,
   "metadata": {},
   "outputs": [],
   "source": [
    "# path for the gdb\n",
    "dir_path = os.path.dirname(os.path.realpath(mygdb))\n",
    "outgdb = os.path.basename(mygdb)"
   ]
  },
  {
   "cell_type": "code",
   "execution_count": 57,
   "metadata": {
    "collapsed": true
   },
   "outputs": [
    {
     "data": {
      "text/html": [
       "<h2>Output</h2>H:\\ArcGIS\\geogfinalproject\\tri.gdb<h2>Messages</h2>Start Time: Monday, May 9, 2022 8:46:43 PM<br/>Succeeded at Monday, May 9, 2022 8:46:43 PM (Elapsed Time: 0.79 seconds)<br/><style>.rendered_html td, .rendered_html th {text-align: left;}.rendered_html tbody {border: 1px solid black;}</style>"
      ],
      "text/plain": [
       "<Result 'H:\\\\ArcGIS\\\\geogfinalproject\\\\tri.gdb'>"
      ]
     },
     "execution_count": 57,
     "metadata": {},
     "output_type": "execute_result"
    }
   ],
   "source": [
    "# actually creating the GDB\n",
    "arcpy.CreateFileGDB_management(dir_path, outgdb)"
   ]
  },
  {
   "cell_type": "code",
   "execution_count": 58,
   "metadata": {},
   "outputs": [],
   "source": [
    "# sending communities to shapefile\n",
    "outworkspace = mygdb\n",
    "fcList = arcpy.ListFeatureClasses()"
   ]
  },
  {
   "cell_type": "code",
   "execution_count": 59,
   "metadata": {},
   "outputs": [],
   "source": [
    "# loop to grab the shapefiles\n",
    "for shapefile in fcList:\n",
    "    out_featureclass = os.path.join(outworkspace, os.path.splitext(shapefile)[0])"
   ]
  },
  {
   "cell_type": "code",
   "execution_count": 60,
   "metadata": {
    "collapsed": true
   },
   "outputs": [
    {
     "data": {
      "text/html": [
       "<h2>Output</h2>H:\\ArcGIS\\geogfinalproject\\tri.gdb\\communityAreas<h2>Messages</h2>Start Time: Monday, May 9, 2022 8:47:02 PM<br/>Succeeded at Monday, May 9, 2022 8:47:04 PM (Elapsed Time: 1.90 seconds)<br/><style>.rendered_html td, .rendered_html th {text-align: left;}.rendered_html tbody {border: 1px solid black;}</style>"
      ],
      "text/plain": [
       "<Result 'H:\\\\ArcGIS\\\\geogfinalproject\\\\tri.gdb\\\\communityAreas'>"
      ]
     },
     "execution_count": 60,
     "metadata": {},
     "output_type": "execute_result"
    }
   ],
   "source": [
    "# sending the shapefile to the gdb\n",
    "arcpy.CopyFeatures_management(shapefile, out_featureclass)"
   ]
  },
  {
   "cell_type": "code",
   "execution_count": 61,
   "metadata": {},
   "outputs": [],
   "source": [
    "# sending tables to the gdb\n",
    "tables = arcpy.ListTables()"
   ]
  },
  {
   "cell_type": "code",
   "execution_count": 62,
   "metadata": {},
   "outputs": [],
   "source": [
    "outLocation = mygdb"
   ]
  },
  {
   "cell_type": "code",
   "execution_count": 63,
   "metadata": {
    "collapsed": true
   },
   "outputs": [
    {
     "data": {
      "text/html": [
       "<h2>Output</h2>H:\\ArcGIS\\geogfinalproject\\tri.gdb<h2>Messages</h2>Start Time: Monday, May 9, 2022 8:47:14 PM<br/>Converted H:/ArcGIS/geogfinalproject/Data\\communityDATA.csv to H:/ArcGIS/geogfinalproject/tri.gdb\\communityDATA successfully.<br/>Converted H:/ArcGIS/geogfinalproject/Data\\fac_release_cleared.csv to H:/ArcGIS/geogfinalproject/tri.gdb\\fac_release_cleared successfully.<br/>Succeeded at Monday, May 9, 2022 8:47:18 PM (Elapsed Time: 4.56 seconds)<br/><style>.rendered_html td, .rendered_html th {text-align: left;}.rendered_html tbody {border: 1px solid black;}</style>"
      ],
      "text/plain": [
       "<Result 'H:\\\\ArcGIS\\\\geogfinalproject\\\\tri.gdb'>"
      ]
     },
     "execution_count": 63,
     "metadata": {},
     "output_type": "execute_result"
    }
   ],
   "source": [
    "arcpy.TableToGeodatabase_conversion(tables, outLocation)"
   ]
  },
  {
   "cell_type": "code",
   "execution_count": 7,
   "metadata": {},
   "outputs": [],
   "source": [
    "# setting new workspace\n",
    "arcpy.env.workspace = mygdb\n",
    "arcpy.env.overwriteOutput = True"
   ]
  },
  {
   "cell_type": "code",
   "execution_count": 65,
   "metadata": {
    "collapsed": true
   },
   "outputs": [
    {
     "data": {
      "text/html": [
       "<h2>Output</h2>H:/ArcGIS/geogfinalproject/tri.gdb\\TRIpoints<h2>Messages</h2>Start Time: Monday, May 9, 2022 8:47:30 PM<br/>Succeeded at Monday, May 9, 2022 8:47:35 PM (Elapsed Time: 4.71 seconds)<br/><style>.rendered_html td, .rendered_html th {text-align: left;}.rendered_html tbody {border: 1px solid black;}</style>"
      ],
      "text/plain": [
       "<Result 'H:/ArcGIS/geogfinalproject/tri.gdb\\\\TRIpoints'>"
      ]
     },
     "execution_count": 65,
     "metadata": {},
     "output_type": "execute_result"
    }
   ],
   "source": [
    "# creating XY points from TRI release\n",
    "arcpy.management.XYTableToPoint(\"fac_release_cleared\", \"TRIpoints\", \"long\", \"lat\")"
   ]
  },
  {
   "cell_type": "code",
   "execution_count": 66,
   "metadata": {
    "collapsed": true
   },
   "outputs": [
    {
     "data": {
      "text/html": [
       "<h2>Output</h2>a Layer object<h2>Messages</h2>Start Time: Monday, May 9, 2022 8:47:39 PM<br/>Adding areaNUM to communityAreas...<br/>Succeeded at Monday, May 9, 2022 8:47:39 PM (Elapsed Time: 0.32 seconds)<br/><style>.rendered_html td, .rendered_html th {text-align: left;}.rendered_html tbody {border: 1px solid black;}</style>"
      ],
      "text/plain": [
       "<Result 'communityAreas'>"
      ]
     },
     "execution_count": 66,
     "metadata": {},
     "output_type": "execute_result"
    }
   ],
   "source": [
    "# adding field for join\n",
    "arcpy.management.AddField(\"communityAreas\", \"areaNUM\", \"LONG\")"
   ]
  },
  {
   "cell_type": "code",
   "execution_count": 68,
   "metadata": {
    "collapsed": true
   },
   "outputs": [
    {
     "data": {
      "text/html": [
       "<h2>Output</h2>a Layer object<h2>Messages</h2>Start Time: Monday, May 9, 2022 8:48:22 PM<br/>Succeeded at Monday, May 9, 2022 8:48:22 PM (Elapsed Time: 0.18 seconds)<br/><style>.rendered_html td, .rendered_html th {text-align: left;}.rendered_html tbody {border: 1px solid black;}</style>"
      ],
      "text/plain": [
       "<Result 'communityAreas'>"
      ]
     },
     "execution_count": 68,
     "metadata": {},
     "output_type": "execute_result"
    }
   ],
   "source": [
    "# calculating field to join\n",
    "arcpy.management.CalculateField(\"communityAreas\", \"areaNUM\", \"!area_num_1!\")"
   ]
  },
  {
   "cell_type": "code",
   "execution_count": 69,
   "metadata": {
    "collapsed": true
   },
   "outputs": [
    {
     "data": {
      "text/html": [
       "<h2>Output</h2>a Layer object<h2>Messages</h2>Start Time: Monday, May 9, 2022 8:48:38 PM<br/>Succeeded at Monday, May 9, 2022 8:48:38 PM (Elapsed Time: 0.16 seconds)<br/><style>.rendered_html td, .rendered_html th {text-align: left;}.rendered_html tbody {border: 1px solid black;}</style>"
      ],
      "text/plain": [
       "<Result 'communityAreas'>"
      ]
     },
     "execution_count": 69,
     "metadata": {},
     "output_type": "execute_result"
    }
   ],
   "source": [
    "# joining community areas to community data\n",
    "arcpy.management.AddJoin(\"communityAreas\", \"areaNUM\", \"communityDATA\", \"commNUM\")"
   ]
  },
  {
   "cell_type": "code",
   "execution_count": 70,
   "metadata": {
    "collapsed": true
   },
   "outputs": [
    {
     "data": {
      "text/html": [
       "<h2>Output</h2>H:\\ArcGIS\\geogfinalproject\\tri.gdb\\communityAreas_project<h2>Messages</h2>Start Time: Monday, May 9, 2022 8:48:42 PM<br/>Succeeded at Monday, May 9, 2022 8:48:44 PM (Elapsed Time: 2.22 seconds)<br/><style>.rendered_html td, .rendered_html th {text-align: left;}.rendered_html tbody {border: 1px solid black;}</style>"
      ],
      "text/plain": [
       "<Result 'H:\\\\ArcGIS\\\\geogfinalproject\\\\tri.gdb\\\\communityAreas_project'>"
      ]
     },
     "execution_count": 70,
     "metadata": {},
     "output_type": "execute_result"
    }
   ],
   "source": [
    "#projecting community areas for spatial join\n",
    "input_features = r\"H:/ArcGIS/geogfinalproject/tri.gdb/communityAreas\"\n",
    "output_feature_class = r\"H:/ArcGIS/geogfinalproject/tri.gdb/communityAreas_project\"\n",
    "out_coor_syst = arcpy.SpatialReference('WGS 1984')\n",
    "arcpy.Project_management(input_features, output_feature_class, out_coor_syst)"
   ]
  },
  {
   "cell_type": "code",
   "execution_count": 25,
   "metadata": {},
   "outputs": [
    {
     "data": {
      "text/html": [
       "<h2>Output</h2>H:/ArcGIS/geogfinalproject/tri.gdb\\comAreasWithAttributes<h2>Messages</h2>Start Time: Tuesday, May 10, 2022 3:09:18 PM<br/>Succeeded at Tuesday, May 10, 2022 3:09:20 PM (Elapsed Time: 1.48 seconds)<br/><style>.rendered_html td, .rendered_html th {text-align: left;}.rendered_html tbody {border: 1px solid black;}</style>"
      ],
      "text/plain": [
       "<Result 'H:/ArcGIS/geogfinalproject/tri.gdb\\\\comAreasWithAttributes'>"
      ]
     },
     "execution_count": 25,
     "metadata": {},
     "output_type": "execute_result"
    }
   ],
   "source": [
    "# joining new projected community to data\n",
    "arcpy.env.qualifiedFieldNames = False\n",
    "comFc = \"comAreasWithAttributes\"\n",
    "joined_table = arcpy.management.AddJoin(\"communityAreas_project\", \"areaNUM\", \"communityDATA\", \"commNUM\")\n",
    "# Copy the layer to a new permanent feature class\n",
    "arcpy.CopyFeatures_management(joined_table, comFc)"
   ]
  },
  {
   "cell_type": "code",
   "execution_count": 26,
   "metadata": {},
   "outputs": [],
   "source": [
    "# fieldmapping to spatially join tri points to community areas\n",
    "targetFeatures = (comFc)\n",
    "joinFeatures = (\"TRIpoints\")"
   ]
  },
  {
   "cell_type": "code",
   "execution_count": 27,
   "metadata": {},
   "outputs": [],
   "source": [
    "outfc = os.path.join(mygdb, \"communityTRI\")"
   ]
  },
  {
   "cell_type": "code",
   "execution_count": 28,
   "metadata": {},
   "outputs": [],
   "source": [
    "# new fieldmappings\n",
    "fieldmappings = arcpy.FieldMappings()\n",
    "fieldmappings.addTable(targetFeatures)\n",
    "fieldmappings.addTable(joinFeatures)"
   ]
  },
  {
   "cell_type": "code",
   "execution_count": 29,
   "metadata": {},
   "outputs": [],
   "source": [
    "# using the total on site field\n",
    "totalONSITEFieldIndex = fieldmappings.findFieldMapIndex(\"totalONSITE\")\n",
    "fieldmap = fieldmappings.getFieldMap(totalONSITEFieldIndex)"
   ]
  },
  {
   "cell_type": "code",
   "execution_count": 30,
   "metadata": {},
   "outputs": [],
   "source": [
    "# getting the output properties\n",
    "field = fieldmap.outputField"
   ]
  },
  {
   "cell_type": "code",
   "execution_count": 31,
   "metadata": {},
   "outputs": [],
   "source": [
    "# naming the sum of points\n",
    "field.name = \"sum_onsite\"\n",
    "field.aliasname = \"sum_onsite\"\n",
    "fieldmap.outputField = field"
   ]
  },
  {
   "cell_type": "code",
   "execution_count": 32,
   "metadata": {},
   "outputs": [],
   "source": [
    "# merging\n",
    "fieldmap.mergeRule = \"sum\"\n",
    "fieldmappings.replaceFieldMap(totalONSITEFieldIndex, fieldmap)"
   ]
  },
  {
   "cell_type": "code",
   "execution_count": 33,
   "metadata": {},
   "outputs": [
    {
     "data": {
      "text/html": [
       "<h2>Output</h2>H:\\ArcGIS\\geogfinalproject\\tri.gdb\\communityTRI<h2>Messages</h2>Start Time: Tuesday, May 10, 2022 3:09:38 PM<br/>Succeeded at Tuesday, May 10, 2022 3:09:40 PM (Elapsed Time: 2.12 seconds)<br/><style>.rendered_html td, .rendered_html th {text-align: left;}.rendered_html tbody {border: 1px solid black;}</style>"
      ],
      "text/plain": [
       "<Result 'H:\\\\ArcGIS\\\\geogfinalproject\\\\tri.gdb\\\\communityTRI'>"
      ]
     },
     "execution_count": 33,
     "metadata": {},
     "output_type": "execute_result"
    }
   ],
   "source": [
    "# running the spatial join\n",
    "arcpy.SpatialJoin_analysis(targetFeatures, joinFeatures, outfc, \"JOIN_ONE_TO_ONE\", \"KEEP_ALL\", fieldmappings, \"WITHIN_A_DISTANCE\", \"8000 Meters\")"
   ]
  },
  {
   "cell_type": "code",
   "execution_count": null,
   "metadata": {},
   "outputs": [],
   "source": []
  }
 ],
 "metadata": {
  "kernelspec": {
   "display_name": "ArcGISPro",
   "language": "Python",
   "name": "python3"
  },
  "language_info": {
   "file_extension": ".py",
   "name": "python",
   "version": "3"
  }
 },
 "nbformat": 4,
 "nbformat_minor": 2
}
