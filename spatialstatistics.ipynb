{
 "cells": [
  {
   "cell_type": "code",
   "execution_count": 97,
   "metadata": {},
   "outputs": [],
   "source": [
    "import arcpy\n",
    "import os"
   ]
  },
  {
   "cell_type": "code",
   "execution_count": 98,
   "metadata": {},
   "outputs": [],
   "source": [
    "arcpy.env.workspace = \"H:/ArcGIS/geogfinalproject/tri.gdb\"\n",
    "arcpy.env.overwriteOutput = True"
   ]
  },
  {
   "cell_type": "code",
   "execution_count": 99,
   "metadata": {},
   "outputs": [
    {
     "name": "stdout",
     "output_type": "stream",
     "text": [
      "['communityAreas', 'TRIpoints', 'communityAreas_project', 'comAreasWithAttributes', 'communityOLS', 'communityTRI']\n"
     ]
    }
   ],
   "source": [
    "fclist = arcpy.ListFeatureClasses()\n",
    "print(fclist)"
   ]
  },
  {
   "cell_type": "code",
   "execution_count": 100,
   "metadata": {},
   "outputs": [
    {
     "data": {
      "text/html": [
       "<h2>Output</h2><table><tr><th>id</th><th>value</th></tr><tr><td>0</td><td>H:/ArcGIS/geogfinalproject/tri.gdb\\communityOLS</td></tr><tr><td>1</td><td></td></tr><tr><td>2</td><td></td></tr><tr><td>3</td><td></td></tr></table><h2>Messages</h2>Start Time: Tuesday, May 10, 2022 4:25:46 PM<br/>WARNING 000916: The input feature class does not appear to contain projected data.<br/>WARNING 000642: Problems reading 1 of 77 total records.<br/>WARNING 000848: Features with bad records (only includes first 30): OBJECTID = 18.<br/><br/>                                          Summary of OLS Results                                          <br/>   Variable Coefficient [a]     StdError t-Statistic Probability [b]    Robust_SE  Robust_t Robust_Pr [b]  VIF [c]<br/>  Intercept    -7318.998760 56704.084467   -0.129074       0.897656  53172.598900 -0.137646     0.890902  --------<br/>  PERCAPINC       -0.361770     1.056916   -0.342288       0.733136      0.970121 -0.372912     0.710315  1.778321<br/>  PERCENTUE     -187.332671  2936.708416   -0.063790       0.949310   2769.479434 -0.067642     0.946254  3.340843<br/>PERCENTHSBP     4776.840683  1764.961367    2.706485       0.008484*  1532.295286  3.117441     0.002624* 2.808999<br/><br/><br/>                                         OLS Diagnostics                                          <br/>Input Features:              communityTRI   Dependent Variable:                           SUM_ONSITE <br/>Number of Observations:                76   Akaike's Information Criterion (AICc) [d]:   1980.714722 <br/>Multiple R-Squared [d]:          0.236007   Adjusted R-Squared [d]:                         0.204174 <br/>Joint F-Statistic [e]:           7.413910   Prob(>F), (3,72) degrees of freedom:            0.000062*<br/>Joint Wald Statistic [e]:       25.507990   Prob(>chi-squared), (3) degrees of freedom:     0.000012*<br/>Koenker (BP) Statistic [f]:      7.690493   Prob(>chi-squared), (3) degrees of freedom:     0.052861 <br/>Jarque-Bera Statistic [g]:      11.053385   Prob(>chi-squared), (2) degrees of freedom:     0.003979*<br/><br/><br/>Notes on Interpretation<br/> *  An asterisk next to a number indicates a statistically significant p-value (p < 0.01).                                                                                                                                                                                                                                                                <br/>[a] Coefficient: Represents the strength and type of relationship between each explanatory variable and the dependent variable.                                                                                                                                                                                                                           <br/>[b] Probability and Robust Probability (Robust_Pr): Asterisk (*) indicates a coefficient is statistically significant (p < 0.01); if the Koenker (BP) Statistic [f] is statistically significant, use the Robust Probability column (Robust_Pr) to determine coefficient significance.                                                                    <br/>[c] Variance Inflation Factor (VIF): Large Variance Inflation Factor (VIF) values (> 7.5) indicate redundancy among explanatory variables.                                                                                                                                                                                                                <br/>[d] R-Squared and Akaike's Information Criterion (AICc): Measures of model fit/performance.                                                                                                                                                                                                                                                               <br/>[e] Joint F and Wald Statistics: Asterisk (*) indicates overall model significance (p < 0.01); if the Koenker (BP) Statistic [f] is statistically significant, use the Wald Statistic to determine overall model significance.                                                                                                                            <br/>[f] Koenker (BP) Statistic: When this test is statistically significant (p < 0.01), the relationships modeled are not consistent (either due to non-stationarity or heteroskedasticity).  You should rely on the Robust Probabilities (Robust_Pr) to determine coefficient significance and on the Wald Statistic to determine overall model significance.<br/>[g] Jarque-Bera Statistic: When this test is statistically significant (p < 0.01) model predictions are biased (the residuals are not normally distributed).                                                                                                                                                                                              <br/><br/>WARNING 000851: Use the Spatial Autocorrelation (Moran's I) Tool to ensure residuals are not spatially autocorrelated.<br/>Succeeded at Tuesday, May 10, 2022 4:25:52 PM (Elapsed Time: 5.80 seconds)<br/><style>.rendered_html td, .rendered_html th {text-align: left;}.rendered_html tbody {border: 1px solid black;}</style>"
      ],
      "text/plain": [
       "<Result 'H:/ArcGIS/geogfinalproject/tri.gdb\\\\communityOLS'>"
      ]
     },
     "execution_count": 100,
     "metadata": {},
     "output_type": "execute_result"
    }
   ],
   "source": [
    "# OLS regression\n",
    "arcpy.stats.OrdinaryLeastSquares(\"communityTRI\", \"areaNUM\", \"communityOLS\", \"sum_onsite\", [\"percapInc\", \"percentUE\", \"percentHSBP\"])"
   ]
  },
  {
   "cell_type": "code",
   "execution_count": 101,
   "metadata": {},
   "outputs": [
    {
     "data": {
      "text/html": [
       "<h2>Output</h2><table><tr><th>id</th><th>value</th></tr><tr><td>0</td><td>0.518103</td></tr><tr><td>1</td><td>13.546795</td></tr><tr><td>2</td><td>0</td></tr><tr><td>3</td><td></td></tr></table><h2>Messages</h2>Start Time: Tuesday, May 10, 2022 4:26:39 PM<br/>WARNING 001605: Distances for Geographic Coordinates (degrees, minutes, seconds) are analyzed using Chordal Distances in meters.<br/>WARNING 000853: The default neighborhood search threshold was 7512.8776 Meters.<br/><br/> Global Moran's I Summary<br/>Moran's Index:   0.518103 <br/>Expected Index:  -0.013333<br/>Variance:        0.001539 <br/>z-score:         13.546795<br/>p-value:         0.000000 <br/><br/>Distance measured in Meters<br/><br/>Succeeded at Tuesday, May 10, 2022 4:26:39 PM (Elapsed Time: 0.47 seconds)<br/><style>.rendered_html td, .rendered_html th {text-align: left;}.rendered_html tbody {border: 1px solid black;}</style>"
      ],
      "text/plain": [
       "<Result '0.518103'>"
      ]
     },
     "execution_count": 101,
     "metadata": {},
     "output_type": "execute_result"
    }
   ],
   "source": [
    "# morans I\n",
    "arcpy.stats.SpatialAutocorrelation(\"communityOLS\", \"Residual\", \"NO_REPORT\", \"INVERSE_DISTANCE\", \"EUCLIDEAN_DISTANCE\", \"NONE\")"
   ]
  },
  {
   "cell_type": "code",
   "execution_count": null,
   "metadata": {},
   "outputs": [],
   "source": []
  }
 ],
 "metadata": {
  "kernelspec": {
   "display_name": "ArcGISPro",
   "language": "Python",
   "name": "python3"
  },
  "language_info": {
   "file_extension": ".py",
   "name": "python",
   "version": "3"
  }
 },
 "nbformat": 4,
 "nbformat_minor": 2
}
